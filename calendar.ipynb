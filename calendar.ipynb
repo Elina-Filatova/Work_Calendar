{
 "cells": [
  {
   "cell_type": "code",
   "execution_count": 1,
   "metadata": {},
   "outputs": [],
   "source": [
    "import calendar\n",
    "from datetime import datetime, timedelta\n",
    "\n",
    "def get_days_list_exact(start_date_str, num_months):\n",
    "    start_date = datetime.strptime(start_date_str, \"%d.%m.%Y\")\n",
    "    days_list = []\n",
    "    current_date = start_date\n",
    "    \n",
    "    for _ in range(num_months):\n",
    "        year = current_date.year\n",
    "        month = current_date.month\n",
    "        \n",
    "        days_in_month = calendar.monthrange(year, month)[1]\n",
    "        for day in range(current_date.day, days_in_month + 1):\n",
    "            days_list.append(current_date.strftime(\"%d.%m.%Y\"))\n",
    "            current_date += timedelta(days=1)\n",
    "        current_date = current_date.replace(day=1)\n",
    "    return days_list\n",
    "\n",
    "def get_schedule_dictionary(days_to_calcualte: list[str] )-> dict:\n",
    "\n",
    "    distribution_pattern = [\n",
    "        (\"home_work\", 1),\n",
    "        (\"work\", 3),     \n",
    "        (\"work_home\", 1),\n",
    "        (\"home\", 3),\n",
    "    ]\n",
    "\n",
    "    index = 0\n",
    "    \n",
    "    sf = {\n",
    "        \"home_work\": [],\n",
    "        \"work\": [],\n",
    "        \"work_home\": [],\n",
    "        \"home\": [],\n",
    "    } \n",
    "    \n",
    "\n",
    "    while index < len(days_to_calcualte):\n",
    "        for key, num_days in distribution_pattern:\n",
    "            sf[key].extend(days_to_calcualte[index:index + num_days])\n",
    "            index += num_days  \n",
    "\n",
    "            if index >= len(days_to_calcualte):\n",
    "                break\n",
    "    \n",
    "    return sf\n",
    "\n",
    "\n",
    "def calculate_schedule(start_working_day: str, num_months: int):\n",
    "    days_to_calcualte = get_days_list_exact(start_working_day, num_months)\n",
    "    return get_schedule_dictionary(days_to_calcualte=days_to_calcualte)"
   ]
  },
  {
   "cell_type": "code",
   "execution_count": 3,
   "metadata": {},
   "outputs": [
    {
     "data": {
      "text/plain": [
       "{'home_work': ['21.10.2024', '29.10.2024'],\n",
       " 'work': ['22.10.2024',\n",
       "  '23.10.2024',\n",
       "  '24.10.2024',\n",
       "  '30.10.2024',\n",
       "  '31.10.2024'],\n",
       " 'work_home': ['25.10.2024'],\n",
       " 'home': ['26.10.2024', '27.10.2024', '28.10.2024']}"
      ]
     },
     "execution_count": 3,
     "metadata": {},
     "output_type": "execute_result"
    }
   ],
   "source": [
    "d = calculate_schedule(\"21.10.2024\", num_months = 1)\n",
    "d"
   ]
  }
 ],
 "metadata": {
  "kernelspec": {
   "display_name": "uni",
   "language": "python",
   "name": "python3"
  },
  "language_info": {
   "codemirror_mode": {
    "name": "ipython",
    "version": 3
   },
   "file_extension": ".py",
   "mimetype": "text/x-python",
   "name": "python",
   "nbconvert_exporter": "python",
   "pygments_lexer": "ipython3",
   "version": "3.10.13"
  }
 },
 "nbformat": 4,
 "nbformat_minor": 2
}
